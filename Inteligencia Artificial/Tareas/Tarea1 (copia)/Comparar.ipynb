{
 "cells": [
  {
   "cell_type": "code",
   "execution_count": 1,
   "metadata": {},
   "outputs": [],
   "source": [
    "a = \"fila(1) fila(2) fila(3) fila(4) fila(5) columna(1) columna(2) columna(3) columna(4) columna(5) misma_celda(1,1,1,1) misma_celda(1,2,1,2) misma_celda(1,3,1,3) misma_celda(1,4,1,4) misma_celda(1,5,1,5) misma_celda(2,1,2,1) misma_celda(2,2,2,2) misma_celda(2,3,2,3) misma_celda(2,4,2,4) misma_celda(2,5,2,5) misma_celda(3,1,3,1) misma_celda(3,2,3,2) misma_celda(3,3,3,3) misma_celda(3,4,3,4) misma_celda(3,5,3,5) misma_celda(4,1,4,1) misma_celda(4,2,4,2) misma_celda(4,3,4,3) misma_celda(4,4,4,4) misma_celda(4,5,4,5) misma_celda(5,1,5,1) misma_celda(5,2,5,2) misma_celda(5,3,5,3) misma_celda(5,4,5,4) misma_celda(5,5,5,5) color(verde,3,1) color(verde,4,1) colores(verde) rangoX(5) rangoY(5) camino_inicio_fin(verde,3,1,4,1) celdas_termino(verde,4,1) celdas_inicio(verde,3,1) camino(verde,3,1,1,1) opcion_movimiento(verde,1,1,1,2)\"\n",
    "b = \"fila(1) fila(2) fila(3) fila(4) fila(5) columna(1) columna(2) columna(3) columna(4) columna(5) misma_celda(1,1,1,1) misma_celda(1,2,1,2) misma_celda(1,3,1,3) misma_celda(1,4,1,4) misma_celda(1,5,1,5) misma_celda(2,1,2,1) misma_celda(2,2,2,2) misma_celda(2,3,2,3) misma_celda(2,4,2,4) misma_celda(2,5,2,5) misma_celda(3,1,3,1) misma_celda(3,2,3,2) misma_celda(3,3,3,3) misma_celda(3,4,3,4) misma_celda(3,5,3,5) misma_celda(4,1,4,1) misma_celda(4,2,4,2) misma_celda(4,3,4,3) misma_celda(4,4,4,4) misma_celda(4,5,4,5) misma_celda(5,1,5,1) misma_celda(5,2,5,2) misma_celda(5,3,5,3) misma_celda(5,4,5,4) misma_celda(5,5,5,5) color(verde,3,1) color(verde,4,1) colores(verde) rangoX(5) rangoY(5) camino_inicio_fin(verde,3,1,4,1) celdas_termino(verde,4,1) celdas_inicio(verde,3,1) camino(verde,3,1,1,1) opcion_movimiento(verde,1,1,2,1)\""
   ]
  },
  {
   "cell_type": "code",
   "execution_count": 2,
   "metadata": {},
   "outputs": [
    {
     "data": {
      "text/plain": [
       "False"
      ]
     },
     "execution_count": 2,
     "metadata": {},
     "output_type": "execute_result"
    }
   ],
   "source": [
    "a == b"
   ]
  },
  {
   "cell_type": "code",
   "execution_count": 5,
   "metadata": {},
   "outputs": [
    {
     "name": "stdout",
     "output_type": "stream",
     "text": [
      "823\n"
     ]
    }
   ],
   "source": [
    "for x in range(len(a)):\n",
    "    if a[x] != b[x]:\n",
    "        print(x)\n",
    "        break"
   ]
  },
  {
   "cell_type": "code",
   "execution_count": 6,
   "metadata": {},
   "outputs": [
    {
     "data": {
      "text/plain": [
       "827"
      ]
     },
     "execution_count": 6,
     "metadata": {},
     "output_type": "execute_result"
    }
   ],
   "source": [
    "len(a)"
   ]
  },
  {
   "cell_type": "code",
   "execution_count": null,
   "metadata": {},
   "outputs": [],
   "source": []
  }
 ],
 "metadata": {
  "kernelspec": {
   "display_name": "Python 3",
   "language": "python",
   "name": "python3"
  },
  "language_info": {
   "codemirror_mode": {
    "name": "ipython",
    "version": 3
   },
   "file_extension": ".py",
   "mimetype": "text/x-python",
   "name": "python",
   "nbconvert_exporter": "python",
   "pygments_lexer": "ipython3",
   "version": "3.6.8"
  }
 },
 "nbformat": 4,
 "nbformat_minor": 2
}
