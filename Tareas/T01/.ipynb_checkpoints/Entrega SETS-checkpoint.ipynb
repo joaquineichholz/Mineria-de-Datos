{
 "cells": [
  {
   "cell_type": "code",
   "execution_count": 24,
   "metadata": {},
   "outputs": [],
   "source": [
    "import numpy as np\n",
    "import pandas as pd\n",
    "from datetime import datetime\n",
    "from itertools import chain\n",
    "from collections import defaultdict"
   ]
  },
  {
   "cell_type": "code",
   "execution_count": 25,
   "metadata": {},
   "outputs": [],
   "source": [
    "def conjuntos_sobre_umbral_sets(tuplas, conjuntos, frec_min):\n",
    "    '''\n",
    "    tuplas: lista de conjuntos de varaibles (tuplas de la base de datos)\n",
    "    conjuntos: lista con conjuntos de variables\n",
    "    frec_min: int, umbral minimo para seguir en la proxima iteración \n",
    "    '''\n",
    "    n_tuplas = len(tuplas)\n",
    "    sobrevivientes = []\n",
    "    muertes = []\n",
    "    \n",
    "    diccionario = defaultdict(int)\n",
    "    \n",
    "    #t = datetime.now()\n",
    "    for conjunto in conjuntos:\n",
    "        for tupla in tuplas:\n",
    "            if conjunto.issubset(tupla):\n",
    "                diccionario[tuple(conjunto)] += 1\n",
    "            '''if contador >= frec_min:\n",
    "                sobrevivientes.append(conjunto)\n",
    "                #print('sobrevivio:', conjunto)\n",
    "                break'''\n",
    "        '''else:\n",
    "            muertes.append(conjunto)'''\n",
    "    s = filter(lambda x: x[1] >= frec_min, diccionario.items())\n",
    "    m = filter(lambda x: x[1] < frec_min, diccionario.items())\n",
    "    sobrevivientes = [{*x[0]} for x in s]\n",
    "    muertes = [{*x[0]} for x in m]\n",
    "    #print('1.- for de sobre umbral tardo {}\\n'.format((datetime.now() - t).total_seconds()))\n",
    "                \n",
    "    #print('murio:', conjunto)\n",
    "    #print('\\nMe demoré {} seg en el sobre umbral'.format((datetime.now() - t).total_seconds()))\n",
    "    #print()\n",
    "    return sobrevivientes, muertes"
   ]
  },
  {
   "cell_type": "code",
   "execution_count": 26,
   "metadata": {},
   "outputs": [],
   "source": [
    "def join_conjunto_sets(conjuntos, muertes):\n",
    "    nuevo_conjunto = []\n",
    "    for A in (conjuntos):\n",
    "        for B in conjuntos[conjuntos.index(A) + 1:]:\n",
    "            #if set(list(A)[:-1]) == (set(list()[:-1])):\n",
    "             \n",
    "            posible = A.union(B)\n",
    "            try:\n",
    "                if len(posible) == len(conjuntos[0]) + 1:\n",
    "                #if len(A.intersection(B)) == len(conjuntos[0]) - 1:\n",
    "                    #print(posible)\n",
    "                    if posible not in nuevo_conjunto:\n",
    "                        #print(muertes)\n",
    "                        #print(posible)\n",
    "                        # ojo con el orden de esto\n",
    "                        if not len(list(filter(lambda muerte: muerte.issubset(posible), muertes))):\n",
    "                            nuevo_conjunto.append(posible)\n",
    "                            #print('No estaba muerto \\n')\n",
    "\n",
    "                        else:\n",
    "                            pass\n",
    "                            #print('si estaba muerto')\n",
    "                            #print(nuevo_conjunto)\n",
    "                            #print('---------\\n')\n",
    "            except IndexError: \n",
    "                #print('\\n index error')\n",
    "                #print('\\nMe demoré {} seg en el join'.format((datetime.now() - tiempo2).total_seconds()))\n",
    "\n",
    "                return nuevo_conjunto\n",
    "    #print(nuevo_conjunto)\n",
    "    #print('\\nMe demoré {} seg en el join'.format((datetime.now() - tiempo2).total_seconds()))\n",
    "    return nuevo_conjunto\n",
    "\n",
    "def join_conjunto_sets2(conjuntos, muertes):\n",
    "    aux = []\n",
    "    nuevo_conjunto = []\n",
    "    siguiente_conjunto = 1\n",
    "    tiempo = datetime.now()\n",
    "    \n",
    "    #t = datetime.now()\n",
    "    for A in conjuntos[:-1]:\n",
    "        for B in conjuntos[siguiente_conjunto:]:\n",
    "            if A - {max(A)} == B - {max(B)}:\n",
    "                posible = A.union(B)\n",
    "                muere = False\n",
    "                aux.append(posible)\n",
    "                for muerte in muertes:\n",
    "                    if muerte.issubset(posible):\n",
    "                        muere = True\n",
    "                        break\n",
    "                if not muere:\n",
    "                    nuevo_conjunto.append(posible)\n",
    "            else:\n",
    "                continue\n",
    "\n",
    "                #if not len(list(filter(lambda muerte: all(dato in C for dato in muerte), muertes))):\n",
    "                 #   nuevo_conjunto.append(C) \n",
    "        siguiente_conjunto += 1\n",
    "        \n",
    "    #print('2.- for de sobre umbral tardo {}\\n'.format((datetime.now() - t).total_seconds()))\n",
    "\n",
    "    #print('\\nMe demoré {} seg en el join'.format((datetime.now() - t).total_seconds()))\n",
    "    #print('Join entre \\n{}\\nCon muertes: {}\\ngenero:\\n{} \\n\\n'.format(conjuntos,muertes, nuevo_conjunto))         \n",
    "    \n",
    "    return nuevo_conjunto"
   ]
  },
  {
   "cell_type": "code",
   "execution_count": 102,
   "metadata": {},
   "outputs": [],
   "source": [
    "def fit(frec_min, datos='spotify.npy'):\n",
    "    \n",
    "    data = np.load(datos)\n",
    "    listas_datos = [set(x) for x in dict(data.item()).values()]\n",
    "    frec_min = frec_min * len(listas_datos)\n",
    "    \n",
    "    canciones = [x for songs in listas_datos for x in songs]\n",
    "    orden = list(set(canciones))\n",
    "\n",
    "    enumeracion_canciones = dict(enumerate(orden))  # {0: cancion1, 1: cancion2}...\n",
    "    canciones_enumeracion = {x[1]: x[0] for x in enumeracion_canciones.items()}  # {cancion1: 0, cancion2: 1... }\n",
    "    \n",
    "    all_list = list(map(lambda dato: sorted(list(canciones_enumeracion[x] for x in dato)), listas_datos))\n",
    "   \n",
    "    \n",
    "    # seleccionar elementos sobre el umbral    \n",
    "    diccionario = defaultdict(int)\n",
    "    total = chain(*all_list)\n",
    "    for x in total:\n",
    "        diccionario[x] += 1\n",
    "    \n",
    "    conjuntos = [{x[0]} for x in (filter(lambda x: x[1] >= frec_min, diccionario.items()))]\n",
    "    \n",
    "    # seleccionar listas que posean elementos de interés\n",
    "    tuplas = []\n",
    "    for lista in all_list:\n",
    "        for conjunto in conjuntos:\n",
    "            if conjunto.issubset(lista):\n",
    "                tuplas.append(lista)\n",
    "                break\n",
    "    retorno = []\n",
    "    while True: \n",
    "        listas, muerte = conjuntos_sobre_umbral_sets(tuplas, conjuntos, frec_min)\n",
    "        conjuntos = join_conjunto_sets2(listas, muerte)\n",
    "\n",
    "        if not listas:  \n",
    "            return retorno\n",
    "        \n",
    "        else:\n",
    "            aux = []\n",
    "            for conjunto in listas:\n",
    "                l = []\n",
    "                for dato in conjunto:\n",
    "                    l.append(enumeracion_canciones[dato])\n",
    "                aux.append(l)\n",
    "\n",
    "            retorno.extend(aux)"
   ]
  },
  {
   "cell_type": "code",
   "execution_count": 103,
   "metadata": {},
   "outputs": [
    {
     "name": "stdout",
     "output_type": "stream",
     "text": [
      "tiempo promedio: 0.1492425\n"
     ]
    }
   ],
   "source": [
    "t = 0\n",
    "tiempo = datetime.now()\n",
    "a = fit(0.04)\n",
    "\n",
    "t += (datetime.now() - tiempo).total_seconds()\n",
    "print('tiempo promedio:', t/10)"
   ]
  },
  {
   "cell_type": "code",
   "execution_count": 104,
   "metadata": {},
   "outputs": [
    {
     "name": "stdout",
     "output_type": "stream",
     "text": [
      "[['Closer'], ['Home'], ['One Dance'], ['Congratulations'], ['Roses'], ['Ride'], ['HUMBLE.']]\n"
     ]
    }
   ],
   "source": [
    "print(a)"
   ]
  },
  {
   "cell_type": "code",
   "execution_count": null,
   "metadata": {},
   "outputs": [],
   "source": [
    "[['Closer'], ['Home'], ['One Dance'], ['Congratulations'], ['Roses'], ['Ride'], ['HUMBLE.']]"
   ]
  }
 ],
 "metadata": {
  "kernelspec": {
   "display_name": "Python 3",
   "language": "python",
   "name": "python3"
  },
  "language_info": {
   "codemirror_mode": {
    "name": "ipython",
    "version": 3
   },
   "file_extension": ".py",
   "mimetype": "text/x-python",
   "name": "python",
   "nbconvert_exporter": "python",
   "pygments_lexer": "ipython3",
   "version": "3.6.5"
  }
 },
 "nbformat": 4,
 "nbformat_minor": 2
}
