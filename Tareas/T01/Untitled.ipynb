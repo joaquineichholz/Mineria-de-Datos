{
 "cells": [
  {
   "cell_type": "code",
   "execution_count": 88,
   "metadata": {},
   "outputs": [],
   "source": [
    "import numpy as np\n",
    "import pandas as pd\n",
    "from datetime import datetime\n",
    "from itertools import chain\n",
    "from collections import defaultdict"
   ]
  },
  {
   "cell_type": "code",
   "execution_count": 89,
   "metadata": {},
   "outputs": [],
   "source": [
    "def conjuntos_sobre_umbral_sets(tuplas, conjuntos, frec_min):\n",
    "    '''\n",
    "    tuplas: lista de conjuntos de varaibles (tuplas de la base de datos)\n",
    "    conjuntos: lista con conjuntos de variables\n",
    "    frec_min: int, umbral minimo para seguir en la proxima iteración \n",
    "    '''\n",
    "    nuevas_tuplas = []\n",
    "    sobrevivientes = []\n",
    "    muertes = []\n",
    "    \n",
    "    diccionario = defaultdict(int)\n",
    "    posiciones = defaultdict(list)\n",
    "    \n",
    "    #t = datetime.now()\n",
    "    '''for conjunto in conjuntos:\n",
    "        for tupla in tuplas:\n",
    "            se_queda = False\n",
    "            if conjunto.issubset(tupla):\n",
    "                diccionario[tuple(conjunto)] += 1\n",
    "                posiciones[tupla].append(conjunto)\n",
    "                se_queda = True\n",
    "                #if tupla not in nuevas_tuplas:\n",
    "                 #   nuevas_tuplas.append(tupla)'''\n",
    "    for tupla in tuplas:\n",
    "        se_queda = False\n",
    "        for conjunto in conjuntos:\n",
    "            if conjunto.issubset(tupla):\n",
    "                diccionario[tuple(conjunto)] += 1\n",
    "                posiciones[tupla].append(conjunto)\n",
    "                se_queda = True\n",
    "        if se_queda:\n",
    "            nuevas_tuplas.append(tupla)\n",
    "            \n",
    "\n",
    "    s = filter(lambda x: x[1] >= frec_min, diccionario.items())\n",
    "    m = filter(lambda x: x[1] < frec_min, diccionario.items())\n",
    "    \n",
    "    sobrevivientes = [{*x[0]} for x in s]\n",
    "    muertes = [{*x[0]} for x in m]\n",
    "    \n",
    "    #print('1.- for de sobre umbral tardo {}\\n'.format((datetime.now() - t).total_seconds()))            \n",
    "    #print('murio:', conjunto)\n",
    "    #print('\\nMe demoré {} seg en el sobre umbral'.format((datetime.now() - t).total_seconds()))\n",
    "    #print()\n",
    "    return nuevas_tuplas, sobrevivientes, muertes\n",
    "    "
   ]
  },
  {
   "cell_type": "code",
   "execution_count": 90,
   "metadata": {},
   "outputs": [],
   "source": [
    "def join_conjunto_sets2(conjuntos, muertes):\n",
    "    aux = []\n",
    "    nuevo_conjunto = []\n",
    "    siguiente_conjunto = 1\n",
    "    tiempo = datetime.now()\n",
    "    \n",
    "    #t = datetime.now()\n",
    "    for A in conjuntos[:-1]:\n",
    "        for B in conjuntos[siguiente_conjunto:]:\n",
    "            if A - {max(A)} == B - {max(B)}:\n",
    "                posible = A.union(B)\n",
    "                muere = False\n",
    "                aux.append(posible)\n",
    "                for muerte in muertes:\n",
    "                    if muerte.issubset(posible):\n",
    "                        muere = True\n",
    "                        break\n",
    "                if not muere:\n",
    "                    nuevo_conjunto.append(posible)\n",
    "            else:\n",
    "                continue\n",
    "\n",
    "                #if not len(list(filter(lambda muerte: all(dato in C for dato in muerte), muertes))):\n",
    "                 #   nuevo_conjunto.append(C) \n",
    "        siguiente_conjunto += 1\n",
    "        \n",
    "    #print('2.- for de sobre umbral tardo {}\\n'.format((datetime.now() - t).total_seconds()))\n",
    "\n",
    "    #print('\\nMe demoré {} seg en el join'.format((datetime.now() - t).total_seconds()))\n",
    "    #print('Join entre \\n{}\\nCon muertes: {}\\ngenero:\\n{} \\n\\n'.format(conjuntos,muertes, nuevo_conjunto))         \n",
    "    \n",
    "    return nuevo_conjunto"
   ]
  },
  {
   "cell_type": "code",
   "execution_count": 94,
   "metadata": {},
   "outputs": [],
   "source": [
    "def fit(frec_min, datos='spotify.npy'):\n",
    "    tiempo = datetime.now()\n",
    "    data = np.load(datos)\n",
    "    listas_datos = [set(x) for x in dict(data.item()).values()]\n",
    "    frec_min = frec_min * len(listas_datos)\n",
    "    \n",
    "    canciones = [x for songs in listas_datos for x in songs]\n",
    "    orden = list(set(canciones))\n",
    "\n",
    "    enumeracion_canciones = dict(enumerate(orden))  # {0: cancion1, 1: cancion2}...\n",
    "    canciones_enumeracion = {x[1]: x[0] for x in enumeracion_canciones.items()}  # {cancion1: 0, cancion2: 1... }\n",
    "    \n",
    "    tuplas = list(map(lambda dato: tuple(sorted(list(canciones_enumeracion[x] for x in dato))), listas_datos))\n",
    "\n",
    "    conjuntos = [{x} for x in canciones_enumeracion.values()]\n",
    "    #conjuntos = ([x] for x in canciones_enumeracion.values())\n",
    "\n",
    "    eliminados = []\n",
    "    retorno = []\n",
    "\n",
    "    # primer conjunto    \n",
    "    diccionario = defaultdict(int)\n",
    "    diccionario = defaultdict(int)\n",
    "\n",
    "    total = chain(*tuplas)\n",
    "    for x in total:\n",
    "        diccionario[x] += 1\n",
    "    \n",
    "    conjuntos = [{x[0]} for x in (filter(lambda x: x[1] >= frec_min, diccionario.items()))]\n",
    "    \n",
    "    tuplas2 = []\n",
    "    nueva_tupla = []\n",
    "    for tupla in tuplas:\n",
    "        aux = []\n",
    "        listo = False\n",
    "        for conjunto in conjuntos:\n",
    "            if conjunto.issubset(tupla):\n",
    "                aux.append(*conjunto)\n",
    "                if not listo:### \n",
    "                    listo = True\n",
    "                    tuplas2.append(tupla)\n",
    "                #break\n",
    "        if aux: \n",
    "            nueva_tupla.append(tuple(aux))\n",
    "    \n",
    "    tuplas = tuplas2\n",
    "\n",
    "    tiempo = datetime.now()\n",
    "    while True:\n",
    "        k += 1\n",
    "        t = datetime.now()\n",
    "        tuplas, listas, muerte = conjuntos_sobre_umbral_sets(tuplas, conjuntos, frec_min)\n",
    "\n",
    "        t = datetime.now()\n",
    "        conjuntos = join_conjunto_sets2(listas, muerte)\n",
    "\n",
    "        if not listas:  \n",
    "            return retorno\n",
    "       \n",
    "\n",
    "        else:\n",
    "            aux = []\n",
    "            for conjunto in listas:\n",
    "                l = []\n",
    "                for dato in conjunto:\n",
    "                    l.append(enumeracion_canciones[dato])\n",
    "                aux.append(l)\n",
    "\n",
    "            retorno.extend(aux)\n",
    "        tiempo = datetime.now()\n",
    "\n"
   ]
  },
  {
   "cell_type": "code",
   "execution_count": 97,
   "metadata": {},
   "outputs": [
    {
     "name": "stdout",
     "output_type": "stream",
     "text": [
      "<class 'list'> <class 'tuple'> <class 'int'>\n",
      "<class 'list'> <class 'tuple'> <class 'int'>\n",
      "tiempo promedio: 0.000558\n"
     ]
    }
   ],
   "source": [
    "t = 0\n",
    "#for x in range(1000):\n",
    "tiempo = datetime.now()\n",
    "a = fit(0.1)\n",
    "\n",
    "t += (datetime.now() - tiempo).total_seconds()\n",
    "print('tiempo promedio:', t)"
   ]
  },
  {
   "cell_type": "code",
   "execution_count": 98,
   "metadata": {},
   "outputs": [
    {
     "name": "stdout",
     "output_type": "stream",
     "text": [
      "[1]\n",
      "[2]\n",
      "[5]\n",
      "[4]\n",
      "[3]\n",
      "[1, 2]\n",
      "[1, 5]\n",
      "[2, 5]\n",
      "[2, 4]\n",
      "[2, 3]\n",
      "[1, 3]\n",
      "[1, 2, 5]\n",
      "[1, 2, 3]\n"
     ]
    }
   ],
   "source": [
    "for x in a:\n",
    "    print(x)"
   ]
  },
  {
   "cell_type": "code",
   "execution_count": 84,
   "metadata": {},
   "outputs": [],
   "source": [
    "a1 = [['Closer'], ['Forever'], ['Say My Name'], ['Home'], [\"Don't Stop Believin'\"], ['No Role Modelz'], ['Ignition - Remix'], ['Lean On (feat. MØ & DJ Snake)'], ['Stronger'], ['Riptide'], ['Mercy'], ['One Dance'], ['My Girl'], ['Redbone'], ['Body Like A Back Road'], ['Despacito - Remix'], [\"I'm the One\"], ['Hello'], ['Ni**as In Paris'], ['Paris'], ['Jumpman'], ['Unforgettable'], ['XO TOUR Llif3'], ['goosebumps'], ['White Iverson'], ['Black Beatles'], ['Bounce Back'], ['Congratulations'], ['Let It Go'], ['Hallelujah'], ['Blessings'], ['Skinny Love'], ['Fake Love'], ['Caroline'], ['Shape of You'], [\"That's What I Like\"], ['Slide'], ['Say It'], ['Alright'], ['T-Shirt'], ['Starboy'], ['September'], ['Gold'], ['Down'], ['Let Me Love You'], ['Stay'], [\"Don't\"], ['1-800-273-8255'], ['Location'], ['Hurricane'], ['Roses'], ['Sorry'], ['Ride'], ['Trap Queen'], ['HUMBLE.'], ['Passionfruit'], [\"Don't Let Me Down\"], ['Broccoli (feat. Lil Yachty)'], ['Panda'], ['Mask Off'], ['Bad and Boujee (feat. Lil Uzi Vert)'], ['No Problem (feat. Lil Wayne & 2 Chainz)'], ['Antidote'], ['Work'], ['iSpy (feat. Lil Yachty)'], ['Hotline Bling'], ['The Hills'], ['Gold Digger']]\n",
    "a2 = [['Forever'], ['Say My Name'], ['Closer'], ['Home'], ['Lean On (feat. MØ & DJ Snake)'], ['Stronger'], [\"Don't Stop Believin'\"], ['Ignition - Remix'], ['No Role Modelz'], ['Riptide'], ['Mercy'], ['One Dance'], ['Redbone'], ['My Girl'], ['Body Like A Back Road'], [\"I'm the One\"], ['Despacito - Remix'], ['Hello'], ['Bounce Back'], ['goosebumps'], ['Unforgettable'], ['XO TOUR Llif3'], ['White Iverson'], ['Black Beatles'], ['Jumpman'], ['Ni**as In Paris'], ['Congratulations'], ['Paris'], ['Let It Go'], ['Hallelujah'], ['Blessings'], ['Skinny Love'], ['Fake Love'], ['Caroline'], [\"That's What I Like\"], ['Shape of You'], ['Say It'], ['Starboy'], ['Slide'], ['Alright'], ['T-Shirt'], ['September'], ['Gold'], ['Down'], ['Let Me Love You'], ['Stay'], ['Location'], ['1-800-273-8255'], [\"Don't\"], ['Sorry'], ['Hurricane'], ['Roses'], ['Ride'], ['Trap Queen'], ['HUMBLE.'], ['Passionfruit'], [\"Don't Let Me Down\"], ['Panda'], ['Broccoli (feat. Lil Yachty)'], ['Bad and Boujee (feat. Lil Uzi Vert)'], ['Mask Off'], ['No Problem (feat. Lil Wayne & 2 Chainz)'], ['Antidote'], ['Work'], ['iSpy (feat. Lil Yachty)'], ['Hotline Bling'], ['The Hills'], ['Gold Digger']]"
   ]
  },
  {
   "cell_type": "code",
   "execution_count": 87,
   "metadata": {},
   "outputs": [
    {
     "name": "stdout",
     "output_type": "stream",
     "text": [
      "True\n"
     ]
    }
   ],
   "source": [
    "n = 0\n",
    "for x in a1:\n",
    "    if x not in a2:\n",
    "        print(x,' No esta')\n",
    "    else:\n",
    "        n += 1\n",
    "        \n",
    "print(n == len(a1) == len(a2))"
   ]
  },
  {
   "cell_type": "code",
   "execution_count": null,
   "metadata": {},
   "outputs": [],
   "source": []
  }
 ],
 "metadata": {
  "kernelspec": {
   "display_name": "Python 3",
   "language": "python",
   "name": "python3"
  },
  "language_info": {
   "codemirror_mode": {
    "name": "ipython",
    "version": 3
   },
   "file_extension": ".py",
   "mimetype": "text/x-python",
   "name": "python",
   "nbconvert_exporter": "python",
   "pygments_lexer": "ipython3",
   "version": "3.6.5"
  }
 },
 "nbformat": 4,
 "nbformat_minor": 2
}
