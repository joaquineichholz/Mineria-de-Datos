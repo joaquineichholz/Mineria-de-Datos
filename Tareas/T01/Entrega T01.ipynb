{
 "cells": [
  {
   "cell_type": "code",
   "execution_count": 21,
   "metadata": {},
   "outputs": [],
   "source": [
    "import numpy as np\n",
    "import pandas as pd\n",
    "from datetime import datetime"
   ]
  },
  {
   "cell_type": "code",
   "execution_count": 22,
   "metadata": {},
   "outputs": [],
   "source": [
    "def conjuntos_sobre_umbral_listas(tuplas, conjuntos, frec_min):\n",
    "    '''\n",
    "    tuplas: tuplas de la base de datos (lista de listas)\n",
    "    conjuntos: conjuntos a revisar (lista de listas)\n",
    "    frec_min: int, umbral minimo para seguir en la proxima iteración \n",
    "    '''\n",
    "    tiempo1 = datetime.now()\n",
    "    \n",
    "    n_tuplas = len(tuplas)\n",
    "\n",
    "    sobrevivientes = []\n",
    "    muertes = []\n",
    "    t = datetime.now()\n",
    "    for conjunto in conjuntos:\n",
    "        contador = 0\n",
    "        for tupla in tuplas:\n",
    "            for dato in conjunto:\n",
    "                if dato not in tupla:\n",
    "                    contador -= 1\n",
    "                    break \n",
    "            contador += 1\n",
    "            \n",
    "            if contador >= frec_min:  # contador / n_tuplas >= frec_min:\n",
    "                sobrevivientes.append(conjunto)\n",
    "                break         \n",
    "            \n",
    "        else:\n",
    "            muertes.append(conjunto)\n",
    "    print('1.- for de sobre umbral tardo {}\\n'.format((datetime.now() - t).total_seconds()))\n",
    "\n",
    "    return sobrevivientes, muertes\n",
    "    "
   ]
  },
  {
   "cell_type": "code",
   "execution_count": 23,
   "metadata": {},
   "outputs": [],
   "source": [
    "def join_conjunto_listas(conjuntos, muertes):\n",
    "    nuevo_conjunto = []\n",
    "    siguiente_conjunto = 1\n",
    "    tiempo = datetime.now()\n",
    "    t =datetime.now()\n",
    "    for A in conjuntos[:-1]:\n",
    "        for B in conjuntos[siguiente_conjunto:]:\n",
    "            if A[:-1] == B[:-1]:\n",
    "                if A[-1] < B[-1]:\n",
    "                    C = A + [B[-1]]\n",
    "                else:\n",
    "                    C = B + [A[-1]]\n",
    "                \n",
    "                muere = False\n",
    "                for tupla in muertes:\n",
    "                    muere = True\n",
    "                    \n",
    "                    for dato in tupla:\n",
    "                        if dato not in tupla:\n",
    "                            muere = False\n",
    "                            break\n",
    "                    if muere:\n",
    "                        break\n",
    "                        \n",
    "                if not muere:\n",
    "                    nuevo_conjunto.append(C)\n",
    "\n",
    "                #if not len(list(filter(lambda muerte: all(dato in C for dato in muerte), muertes))):\n",
    "                 #   nuevo_conjunto.append(C) \n",
    "                    \n",
    "        siguiente_conjunto += 1\n",
    "    \n",
    "    print('2.- for de join tardo {}\\n'.format((datetime.now() - t).total_seconds()))\n",
    "\n",
    "    return nuevo_conjunto"
   ]
  },
  {
   "cell_type": "code",
   "execution_count": 27,
   "metadata": {},
   "outputs": [],
   "source": [
    "def fit(frec_min, datos='spotify.npy'):\n",
    "    \n",
    "    data = np.load(datos)\n",
    "    listas_datos = [x for x in dict(data.item()).values()][:1000]\n",
    "    frec_min = frec_min * len(listas_datos)\n",
    "    \n",
    "    orden = list(set([x for songs in listas_datos for x in songs]))\n",
    "\n",
    "    enumeracion_orden = dict(enumerate(orden))  # {0: cancion1, 1: cancion2}...\n",
    "    dict_orden = {x[1]: x[0] for x in enumeracion_orden.items()}  # {cancion1: 0, cancion2: 1... }\n",
    "    \n",
    "    tuplas = list(map(lambda dato: sorted(list(dict_orden[x] for x in dato)), listas_datos))\n",
    "\n",
    "    conjuntos = [[x] for x in dict_orden.values()]\n",
    "    \n",
    "    \n",
    "    eliminados = []\n",
    "    retorno = []\n",
    "\n",
    "    while True: \n",
    "        listas, muerte = (conjuntos_sobre_umbral_listas(tuplas, conjuntos, frec_min))\n",
    "        conjuntos = join_conjunto_listas(listas, muerte)\n",
    "\n",
    "        if not listas:  \n",
    "            return retorno\n",
    "        \n",
    "        else:\n",
    "            aux = []\n",
    "            for conjunto in listas:\n",
    "                l = []\n",
    "                for dato in conjunto:\n",
    "                    l.append(enumeracion_orden[dato])\n",
    "                aux.append(l)\n",
    "            \n",
    "            retorno.extend(aux)    "
   ]
  },
  {
   "cell_type": "code",
   "execution_count": 28,
   "metadata": {},
   "outputs": [
    {
     "name": "stdout",
     "output_type": "stream",
     "text": [
      "1.- for de sobre umbral tardo 28.546476\n",
      "\n",
      "2.- for de join tardo 2.2e-05\n",
      "\n",
      "1.- for de sobre umbral tardo 1e-06\n",
      "\n",
      "2.- for de join tardo 2e-06\n",
      "\n",
      "28.79159\n"
     ]
    }
   ],
   "source": [
    "tiempo = datetime.now()\n",
    "a = fit(0.04)\n",
    "print((datetime.now() - tiempo).total_seconds())\n"
   ]
  },
  {
   "cell_type": "code",
   "execution_count": 29,
   "metadata": {},
   "outputs": [
    {
     "name": "stdout",
     "output_type": "stream",
     "text": [
      "[['Sorry'], ['Broccoli (feat. Lil Yachty)'], ['Closer'], ['HUMBLE.'], ['Roses'], ['goosebumps'], ['Stay'], ['Mercy'], ['Congratulations']]\n",
      "[['Sorry'], ['Broccoli (feat. Lil Yachty)'], ['Closer'], ['HUMBLE.'], ['Roses'], ['goosebumps'], ['Stay'], ['Mercy'], ['Congratulations']]\n",
      "[['Sorry'], ['Broccoli (feat. Lil Yachty)'], ['Closer'], ['HUMBLE.'], ['Roses'], ['goosebumps'], ['Stay'], ['Mercy'], ['Congratulations']]\n",
      "[['Sorry'], ['Broccoli (feat. Lil Yachty)'], ['Closer'], ['HUMBLE.'], ['Roses'], ['goosebumps'], ['Stay'], ['Mercy'], ['Congratulations']]\n",
      "[['Sorry'], ['Broccoli (feat. Lil Yachty)'], ['Closer'], ['HUMBLE.'], ['Roses'], ['goosebumps'], ['Stay'], ['Mercy'], ['Congratulations']]\n",
      "[['Sorry'], ['Broccoli (feat. Lil Yachty)'], ['Closer'], ['HUMBLE.'], ['Roses'], ['goosebumps'], ['Stay'], ['Mercy'], ['Congratulations']]\n",
      "[['Sorry'], ['Broccoli (feat. Lil Yachty)'], ['Closer'], ['HUMBLE.'], ['Roses'], ['goosebumps'], ['Stay'], ['Mercy'], ['Congratulations']]\n",
      "[['Sorry'], ['Broccoli (feat. Lil Yachty)'], ['Closer'], ['HUMBLE.'], ['Roses'], ['goosebumps'], ['Stay'], ['Mercy'], ['Congratulations']]\n",
      "[['Sorry'], ['Broccoli (feat. Lil Yachty)'], ['Closer'], ['HUMBLE.'], ['Roses'], ['goosebumps'], ['Stay'], ['Mercy'], ['Congratulations']]\n"
     ]
    }
   ],
   "source": [
    "for x in a:\n",
    "    print(a)"
   ]
  },
  {
   "cell_type": "code",
   "execution_count": 30,
   "metadata": {},
   "outputs": [],
   "source": [
    "a1 = [['Closer'], ['Mercy'], ['Congratulations'], ['goosebumps'], ['Stay'], ['Sorry'], ['Roses'], ['HUMBLE.'], ['Broccoli (feat. Lil Yachty)']]\n",
    "a2 = [['Sorry'], ['Broccoli (feat. Lil Yachty)'], ['Closer'], ['HUMBLE.'], ['Roses'], ['goosebumps'], ['Stay'], ['Mercy'], ['Congratulations']]"
   ]
  },
  {
   "cell_type": "code",
   "execution_count": 34,
   "metadata": {},
   "outputs": [
    {
     "name": "stdout",
     "output_type": "stream",
     "text": [
      "True\n"
     ]
    }
   ],
   "source": [
    "print(len(a1) == len(a2))"
   ]
  },
  {
   "cell_type": "code",
   "execution_count": null,
   "metadata": {},
   "outputs": [],
   "source": []
  }
 ],
 "metadata": {
  "kernelspec": {
   "display_name": "Python 3",
   "language": "python",
   "name": "python3"
  },
  "language_info": {
   "codemirror_mode": {
    "name": "ipython",
    "version": 3
   },
   "file_extension": ".py",
   "mimetype": "text/x-python",
   "name": "python",
   "nbconvert_exporter": "python",
   "pygments_lexer": "ipython3",
   "version": "3.6.5"
  }
 },
 "nbformat": 4,
 "nbformat_minor": 2
}
