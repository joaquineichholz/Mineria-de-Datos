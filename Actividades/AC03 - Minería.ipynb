{
 "cells": [
  {
   "cell_type": "code",
   "execution_count": 3,
   "metadata": {},
   "outputs": [],
   "source": [
    "import numpy as np \n",
    "import pandas as pd\n",
    "from numpy import linalg \n",
    "import random\n",
    "import matplotlib.pyplot as pyplot\n",
    "import mpl_toolkits\n",
    "from mpl_toolkits.mplot3d import Axes3D\n",
    "## Hay que estandarizar los datos antes de todo"
   ]
  },
  {
   "cell_type": "code",
   "execution_count": 16,
   "metadata": {},
   "outputs": [],
   "source": [
    "data = pd.read_csv(\"DB_AC02.txt\", sep=' ', header=None)"
   ]
  },
  {
   "cell_type": "code",
   "execution_count": 167,
   "metadata": {},
   "outputs": [],
   "source": [
    "x = data[0].copy().values\n",
    "y = data[1].copy().values"
   ]
  },
  {
   "cell_type": "code",
   "execution_count": 168,
   "metadata": {},
   "outputs": [
    {
     "name": "stdout",
     "output_type": "stream",
     "text": [
      "[[1.00000000e+00 4.88234774e+04 2.38373195e+09]\n",
      " [1.00000000e+00 4.88234870e+04 2.38373288e+09]\n",
      " [1.00000000e+00 4.88234968e+04 2.38373384e+09]\n",
      " ...\n",
      " [1.00000000e+00 5.15314013e+04 2.65548532e+09]\n",
      " [1.00000000e+00 5.15413445e+04 2.65651020e+09]\n",
      " [1.00000000e+00 5.15463252e+04 2.65702364e+09]]\n"
     ]
    }
   ],
   "source": [
    "p = 3\n",
    "\n",
    "X = np.asarray([[1,i] for i in x])\n",
    "\n",
    "X_Fi = np.asarray([[*[i**(k) for k in range(p)]] for i in x])\n",
    "print(Fi)"
   ]
  },
  {
   "cell_type": "code",
   "execution_count": 181,
   "metadata": {},
   "outputs": [
    {
     "name": "stdout",
     "output_type": "stream",
     "text": [
      "[-8.71597500e+04  3.56944275e+00  6.72317110e-05 -5.62873481e-09\n",
      "  9.99748244e-14 -5.78061212e-19]\n"
     ]
    }
   ],
   "source": [
    "#w = np.dot(  linalg.inv(np.dot(x.T,x)  ),  np.dot(  x.T,   y))\n",
    "def calcular_matriz(X, p):\n",
    "    return np.asarray([[*[i**(k) for k in range(p)]] for i in x])\n",
    "    \n",
    "def calcular_w(X, y):\n",
    "    x_T_x = np.dot(X.T, X)\n",
    "    x_T_y = np.dot(X.T, y)\n",
    "    x_T_x_inv = linalg.inv(x_T_x)\n",
    "    return np.dot(x_T_x_inv, x_T_y)\n",
    "\n",
    "print(calcular_w(calcular_matriz(X, 6), y))\n",
    "\n"
   ]
  },
  {
   "cell_type": "code",
   "execution_count": 98,
   "metadata": {
    "scrolled": false
   },
   "outputs": [
    {
     "name": "stdout",
     "output_type": "stream",
     "text": [
      "[[1.00000000e+00 4.88234774e+04 2.38373195e+09]\n",
      " [1.00000000e+00 4.88234870e+04 2.38373288e+09]\n",
      " [1.00000000e+00 4.88234968e+04 2.38373384e+09]\n",
      " ...\n",
      " [1.00000000e+00 5.15314013e+04 2.65548532e+09]\n",
      " [1.00000000e+00 5.15413445e+04 2.65651020e+09]\n",
      " [1.00000000e+00 5.15463252e+04 2.65702364e+09]]\n"
     ]
    }
   ],
   "source": []
  },
  {
   "cell_type": "code",
   "execution_count": 219,
   "metadata": {},
   "outputs": [
    {
     "name": "stdout",
     "output_type": "stream",
     "text": [
      "0.0008183306055646482\n"
     ]
    }
   ],
   "source": [
    "def mult_w(w, rango=np.linspace(48000, 52000, 1), s=1):\n",
    "    return [w * x for x in rango]\n",
    "\n",
    "#print(mult_w(w))\n",
    "print(*w[0])"
   ]
  },
  {
   "cell_type": "code",
   "execution_count": 221,
   "metadata": {
    "scrolled": true
   },
   "outputs": [
    {
     "data": {
      "image/png": "[encoded data removed]",
      "text/plain": [
       "<Figure size 432x288 with 1 Axes>"
      ]
     },
     "metadata": {},
     "output_type": "display_data"
    }
   ],
   "source": [
    "fig = pyplot.figure()\n",
    "pyplot.plot(x, y, 'r*')\n",
    "#for j in range(48000,52000):\n",
    "    #pyplot.plot(j, *w[0]*j, 'b')\n",
    "#pyplot.plot(X, *mult_w(w), 'b')\n",
    "pyplot.show()\n"
   ]
  },
  {
   "cell_type": "code",
   "execution_count": null,
   "metadata": {},
   "outputs": [],
   "source": [
    "\n",
    "\n"
   ]
  },
  {
   "cell_type": "code",
   "execution_count": null,
   "metadata": {},
   "outputs": [],
   "source": []
  }
 ],
 "metadata": {
  "kernelspec": {
   "display_name": "Python 3",
   "language": "python",
   "name": "python3"
  },
  "language_info": {
   "codemirror_mode": {
    "name": "ipython",
    "version": 3
   },
   "file_extension": ".py",
   "mimetype": "text/x-python",
   "name": "python",
   "nbconvert_exporter": "python",
   "pygments_lexer": "ipython3",
   "version": "3.6.5"
  }
 },
 "nbformat": 4,
 "nbformat_minor": 2
}
