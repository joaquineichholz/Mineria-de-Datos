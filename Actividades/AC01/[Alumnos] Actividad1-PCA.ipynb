{
 "cells": [
  {
   "cell_type": "markdown",
   "metadata": {
    "colab_type": "text",
    "id": "ho78xVUrcQh6"
   },
   "source": [
    " # Principal Component Analysis (PCA)\n",
    " \n",
    "### Contexto\n",
    "\n",
    "Dada una matriz $X_{pxn}$ de $n$ observaciones y $p$ dimensiones, PCA busca una matriz reducida $X'_{qxn}$ ($q<p$) que capture la mayor variabilidad posible de la base de datos. \n",
    "\n",
    "Para realizar dicha transformación debemos encontrar una matriz $A_{qp}$ tal que, \n",
    "\n",
    "$A_{qp}X_{pn} = X'_{qn}$\n",
    " \n",
    "Para determinar los valores de $A$ se descompone el problema y se encuentran las filas de $A$  de forma secuencial. \n",
    "\n",
    "Cada uno de estos problemas puede ser formalizado como un problema de programación matemática, donde la función objetivo busca maximizar la variabilidad de la componente y las restricciones están asociadas a las condiciones de que deben cumplir las filas de $A$ (ortogonales). Dichos problemas pueden ser resueltos utilizando la Relajación de Lagrange desde donde se pueden obtener soluciones analíticas que dan origen al siguiente procedimiento para ir reduciendo la dimensionalidad [link](http://www0.cs.ucl.ac.uk/staff/M.Pontil/courses/2-gi07.pdf). \n",
    "\n",
    "### Enunciado Actividad\n",
    "\n",
    "Crear una gaussiana aleatorio en 3 dimensiones. Determinar los componentes principales y visualizarlos en un plot 3d. Reducir la dimensionalidad en 1 (o sea, a 2 dimensiones) por medio de los vectores propios (de acuerdo al criterio de aporte de varianza, reflejado en los valores propios) y visualizarlos en un plot 2d.\n",
    "\n",
    "* Nota 1: recordar la normalización de los datos.\n",
    "* Nota 2: una posible opción para la creación de matrices de covarianza (simétrica, semi definida positiva), es la descomposición de Cholesky, que hace uso de matrices triangulares."
   ]
  },
  {
   "cell_type": "code",
   "execution_count": null,
   "metadata": {},
   "outputs": [],
   "source": []
  }
 ],
 "metadata": {
  "colab": {
   "name": "PCA _ Minería de Datos_ 2018-II.ipynb",
   "provenance": [],
   "version": "0.3.2"
  },
  "kernelspec": {
   "display_name": "Python 3",
   "language": "python",
   "name": "python3"
  },
  "language_info": {
   "codemirror_mode": {
    "name": "ipython",
    "version": 3
   },
   "file_extension": ".py",
   "mimetype": "text/x-python",
   "name": "python",
   "nbconvert_exporter": "python",
   "pygments_lexer": "ipython3",
   "version": "3.6.5"
  }
 },
 "nbformat": 4,
 "nbformat_minor": 1
}
